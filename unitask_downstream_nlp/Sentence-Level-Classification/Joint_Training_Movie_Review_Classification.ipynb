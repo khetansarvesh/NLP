{
  "cells": [
    {
      "cell_type": "markdown",
      "metadata": {
        "id": "-yvMXCVFyBMQ"
      },
      "source": [
        "[![Open In Colab](https://colab.research.google.com/assets/colab-badge.svg)](https://colab.research.google.com/github/khetansarvesh/NLP/blob/main/unitask_downstream_nlp/Sentence-Level-Classification/Joint_Training_Movie_Review_Classification.ipynb)"
      ]
    },
    {
      "cell_type": "code",
      "execution_count": 4,
      "metadata": {
        "colab": {
          "base_uri": "https://localhost:8080/",
          "height": 35
        },
        "id": "ADtGhvAeWZR1",
        "outputId": "1012944e-746a-41f8-8953-04d79dadf3b5"
      },
      "outputs": [
        {
          "output_type": "execute_result",
          "data": {
            "text/plain": [
              "'cuda'"
            ],
            "application/vnd.google.colaboratory.intrinsic+json": {
              "type": "string"
            }
          },
          "metadata": {},
          "execution_count": 4
        }
      ],
      "source": [
        "import numpy as np\n",
        "import pandas as pd\n",
        "import string\n",
        "import re\n",
        "from sklearn.feature_extraction.text import ENGLISH_STOP_WORDS # or use from nltk.corpus import stopwords\n",
        "from nltk.stem.porter import PorterStemmer\n",
        "\n",
        "import torch\n",
        "import torch.nn as nn\n",
        "from torch.utils.data import Dataset, DataLoader, RandomSampler, SequentialSampler\n",
        "from itertools import islice\n",
        "\n",
        "from torch import cuda\n",
        "device = 'cuda' if cuda.is_available() else 'cpu'\n",
        "device"
      ]
    },
    {
      "cell_type": "markdown",
      "metadata": {
        "id": "Z340tgd-tVMI"
      },
      "source": [
        "# **Dataset**\n",
        "The dataset we use in this example is [SST2](https://nlp.stanford.edu/sentiment/index.html), which contains sentences from movie reviews, each labeled as either positive (has the value 1) or negative (has the value 0)"
      ]
    },
    {
      "cell_type": "code",
      "execution_count": null,
      "metadata": {
        "id": "pIRVOR7pyDTC"
      },
      "outputs": [],
      "source": [
        "#downloading the dataset\n",
        "!wget https://github.com/khetansarvesh/NLP/blob/main/Sentence-Level-Classification/SST_Dataset.csv"
      ]
    },
    {
      "cell_type": "code",
      "execution_count": 2,
      "metadata": {
        "colab": {
          "base_uri": "https://localhost:8080/",
          "height": 424
        },
        "id": "FfwI-xPbZO0m",
        "outputId": "9098a820-809f-4b85-8919-aea074e4ee14"
      },
      "outputs": [
        {
          "output_type": "execute_result",
          "data": {
            "text/plain": [
              "                                                  review  label\n",
              "0      bromwell high is a cartoon comedy . it ran at ...      1\n",
              "1      story of a man who has unnatural feelings for ...      0\n",
              "2      homelessness  or houselessness as george carli...      1\n",
              "3      airport    starts as a brand new luxury    pla...      0\n",
              "4      brilliant over  acting by lesley ann warren . ...      1\n",
              "...                                                  ...    ...\n",
              "24995  i saw  descent  last night at the stockholm fi...      0\n",
              "24996  a christmas together actually came before my t...      1\n",
              "24997  some films that you pick up for a pound turn o...      0\n",
              "24998  working  class romantic drama from director ma...      1\n",
              "24999  this is one of the dumbest films  i  ve ever s...      0\n",
              "\n",
              "[25000 rows x 2 columns]"
            ],
            "text/html": [
              "\n",
              "  <div id=\"df-7c71f272-43e3-4185-95ef-93f792aa6194\" class=\"colab-df-container\">\n",
              "    <div>\n",
              "<style scoped>\n",
              "    .dataframe tbody tr th:only-of-type {\n",
              "        vertical-align: middle;\n",
              "    }\n",
              "\n",
              "    .dataframe tbody tr th {\n",
              "        vertical-align: top;\n",
              "    }\n",
              "\n",
              "    .dataframe thead th {\n",
              "        text-align: right;\n",
              "    }\n",
              "</style>\n",
              "<table border=\"1\" class=\"dataframe\">\n",
              "  <thead>\n",
              "    <tr style=\"text-align: right;\">\n",
              "      <th></th>\n",
              "      <th>review</th>\n",
              "      <th>label</th>\n",
              "    </tr>\n",
              "  </thead>\n",
              "  <tbody>\n",
              "    <tr>\n",
              "      <th>0</th>\n",
              "      <td>bromwell high is a cartoon comedy . it ran at ...</td>\n",
              "      <td>1</td>\n",
              "    </tr>\n",
              "    <tr>\n",
              "      <th>1</th>\n",
              "      <td>story of a man who has unnatural feelings for ...</td>\n",
              "      <td>0</td>\n",
              "    </tr>\n",
              "    <tr>\n",
              "      <th>2</th>\n",
              "      <td>homelessness  or houselessness as george carli...</td>\n",
              "      <td>1</td>\n",
              "    </tr>\n",
              "    <tr>\n",
              "      <th>3</th>\n",
              "      <td>airport    starts as a brand new luxury    pla...</td>\n",
              "      <td>0</td>\n",
              "    </tr>\n",
              "    <tr>\n",
              "      <th>4</th>\n",
              "      <td>brilliant over  acting by lesley ann warren . ...</td>\n",
              "      <td>1</td>\n",
              "    </tr>\n",
              "    <tr>\n",
              "      <th>...</th>\n",
              "      <td>...</td>\n",
              "      <td>...</td>\n",
              "    </tr>\n",
              "    <tr>\n",
              "      <th>24995</th>\n",
              "      <td>i saw  descent  last night at the stockholm fi...</td>\n",
              "      <td>0</td>\n",
              "    </tr>\n",
              "    <tr>\n",
              "      <th>24996</th>\n",
              "      <td>a christmas together actually came before my t...</td>\n",
              "      <td>1</td>\n",
              "    </tr>\n",
              "    <tr>\n",
              "      <th>24997</th>\n",
              "      <td>some films that you pick up for a pound turn o...</td>\n",
              "      <td>0</td>\n",
              "    </tr>\n",
              "    <tr>\n",
              "      <th>24998</th>\n",
              "      <td>working  class romantic drama from director ma...</td>\n",
              "      <td>1</td>\n",
              "    </tr>\n",
              "    <tr>\n",
              "      <th>24999</th>\n",
              "      <td>this is one of the dumbest films  i  ve ever s...</td>\n",
              "      <td>0</td>\n",
              "    </tr>\n",
              "  </tbody>\n",
              "</table>\n",
              "<p>25000 rows × 2 columns</p>\n",
              "</div>\n",
              "    <div class=\"colab-df-buttons\">\n",
              "\n",
              "  <div class=\"colab-df-container\">\n",
              "    <button class=\"colab-df-convert\" onclick=\"convertToInteractive('df-7c71f272-43e3-4185-95ef-93f792aa6194')\"\n",
              "            title=\"Convert this dataframe to an interactive table.\"\n",
              "            style=\"display:none;\">\n",
              "\n",
              "  <svg xmlns=\"http://www.w3.org/2000/svg\" height=\"24px\" viewBox=\"0 -960 960 960\">\n",
              "    <path d=\"M120-120v-720h720v720H120Zm60-500h600v-160H180v160Zm220 220h160v-160H400v160Zm0 220h160v-160H400v160ZM180-400h160v-160H180v160Zm440 0h160v-160H620v160ZM180-180h160v-160H180v160Zm440 0h160v-160H620v160Z\"/>\n",
              "  </svg>\n",
              "    </button>\n",
              "\n",
              "  <style>\n",
              "    .colab-df-container {\n",
              "      display:flex;\n",
              "      gap: 12px;\n",
              "    }\n",
              "\n",
              "    .colab-df-convert {\n",
              "      background-color: #E8F0FE;\n",
              "      border: none;\n",
              "      border-radius: 50%;\n",
              "      cursor: pointer;\n",
              "      display: none;\n",
              "      fill: #1967D2;\n",
              "      height: 32px;\n",
              "      padding: 0 0 0 0;\n",
              "      width: 32px;\n",
              "    }\n",
              "\n",
              "    .colab-df-convert:hover {\n",
              "      background-color: #E2EBFA;\n",
              "      box-shadow: 0px 1px 2px rgba(60, 64, 67, 0.3), 0px 1px 3px 1px rgba(60, 64, 67, 0.15);\n",
              "      fill: #174EA6;\n",
              "    }\n",
              "\n",
              "    .colab-df-buttons div {\n",
              "      margin-bottom: 4px;\n",
              "    }\n",
              "\n",
              "    [theme=dark] .colab-df-convert {\n",
              "      background-color: #3B4455;\n",
              "      fill: #D2E3FC;\n",
              "    }\n",
              "\n",
              "    [theme=dark] .colab-df-convert:hover {\n",
              "      background-color: #434B5C;\n",
              "      box-shadow: 0px 1px 3px 1px rgba(0, 0, 0, 0.15);\n",
              "      filter: drop-shadow(0px 1px 2px rgba(0, 0, 0, 0.3));\n",
              "      fill: #FFFFFF;\n",
              "    }\n",
              "  </style>\n",
              "\n",
              "    <script>\n",
              "      const buttonEl =\n",
              "        document.querySelector('#df-7c71f272-43e3-4185-95ef-93f792aa6194 button.colab-df-convert');\n",
              "      buttonEl.style.display =\n",
              "        google.colab.kernel.accessAllowed ? 'block' : 'none';\n",
              "\n",
              "      async function convertToInteractive(key) {\n",
              "        const element = document.querySelector('#df-7c71f272-43e3-4185-95ef-93f792aa6194');\n",
              "        const dataTable =\n",
              "          await google.colab.kernel.invokeFunction('convertToInteractive',\n",
              "                                                    [key], {});\n",
              "        if (!dataTable) return;\n",
              "\n",
              "        const docLinkHtml = 'Like what you see? Visit the ' +\n",
              "          '<a target=\"_blank\" href=https://colab.research.google.com/notebooks/data_table.ipynb>data table notebook</a>'\n",
              "          + ' to learn more about interactive tables.';\n",
              "        element.innerHTML = '';\n",
              "        dataTable['output_type'] = 'display_data';\n",
              "        await google.colab.output.renderOutput(dataTable, element);\n",
              "        const docLink = document.createElement('div');\n",
              "        docLink.innerHTML = docLinkHtml;\n",
              "        element.appendChild(docLink);\n",
              "      }\n",
              "    </script>\n",
              "  </div>\n",
              "\n",
              "\n",
              "<div id=\"df-fce6e28e-11da-4096-ad12-b8d8b5b2c5d1\">\n",
              "  <button class=\"colab-df-quickchart\" onclick=\"quickchart('df-fce6e28e-11da-4096-ad12-b8d8b5b2c5d1')\"\n",
              "            title=\"Suggest charts\"\n",
              "            style=\"display:none;\">\n",
              "\n",
              "<svg xmlns=\"http://www.w3.org/2000/svg\" height=\"24px\"viewBox=\"0 0 24 24\"\n",
              "     width=\"24px\">\n",
              "    <g>\n",
              "        <path d=\"M19 3H5c-1.1 0-2 .9-2 2v14c0 1.1.9 2 2 2h14c1.1 0 2-.9 2-2V5c0-1.1-.9-2-2-2zM9 17H7v-7h2v7zm4 0h-2V7h2v10zm4 0h-2v-4h2v4z\"/>\n",
              "    </g>\n",
              "</svg>\n",
              "  </button>\n",
              "\n",
              "<style>\n",
              "  .colab-df-quickchart {\n",
              "      --bg-color: #E8F0FE;\n",
              "      --fill-color: #1967D2;\n",
              "      --hover-bg-color: #E2EBFA;\n",
              "      --hover-fill-color: #174EA6;\n",
              "      --disabled-fill-color: #AAA;\n",
              "      --disabled-bg-color: #DDD;\n",
              "  }\n",
              "\n",
              "  [theme=dark] .colab-df-quickchart {\n",
              "      --bg-color: #3B4455;\n",
              "      --fill-color: #D2E3FC;\n",
              "      --hover-bg-color: #434B5C;\n",
              "      --hover-fill-color: #FFFFFF;\n",
              "      --disabled-bg-color: #3B4455;\n",
              "      --disabled-fill-color: #666;\n",
              "  }\n",
              "\n",
              "  .colab-df-quickchart {\n",
              "    background-color: var(--bg-color);\n",
              "    border: none;\n",
              "    border-radius: 50%;\n",
              "    cursor: pointer;\n",
              "    display: none;\n",
              "    fill: var(--fill-color);\n",
              "    height: 32px;\n",
              "    padding: 0;\n",
              "    width: 32px;\n",
              "  }\n",
              "\n",
              "  .colab-df-quickchart:hover {\n",
              "    background-color: var(--hover-bg-color);\n",
              "    box-shadow: 0 1px 2px rgba(60, 64, 67, 0.3), 0 1px 3px 1px rgba(60, 64, 67, 0.15);\n",
              "    fill: var(--button-hover-fill-color);\n",
              "  }\n",
              "\n",
              "  .colab-df-quickchart-complete:disabled,\n",
              "  .colab-df-quickchart-complete:disabled:hover {\n",
              "    background-color: var(--disabled-bg-color);\n",
              "    fill: var(--disabled-fill-color);\n",
              "    box-shadow: none;\n",
              "  }\n",
              "\n",
              "  .colab-df-spinner {\n",
              "    border: 2px solid var(--fill-color);\n",
              "    border-color: transparent;\n",
              "    border-bottom-color: var(--fill-color);\n",
              "    animation:\n",
              "      spin 1s steps(1) infinite;\n",
              "  }\n",
              "\n",
              "  @keyframes spin {\n",
              "    0% {\n",
              "      border-color: transparent;\n",
              "      border-bottom-color: var(--fill-color);\n",
              "      border-left-color: var(--fill-color);\n",
              "    }\n",
              "    20% {\n",
              "      border-color: transparent;\n",
              "      border-left-color: var(--fill-color);\n",
              "      border-top-color: var(--fill-color);\n",
              "    }\n",
              "    30% {\n",
              "      border-color: transparent;\n",
              "      border-left-color: var(--fill-color);\n",
              "      border-top-color: var(--fill-color);\n",
              "      border-right-color: var(--fill-color);\n",
              "    }\n",
              "    40% {\n",
              "      border-color: transparent;\n",
              "      border-right-color: var(--fill-color);\n",
              "      border-top-color: var(--fill-color);\n",
              "    }\n",
              "    60% {\n",
              "      border-color: transparent;\n",
              "      border-right-color: var(--fill-color);\n",
              "    }\n",
              "    80% {\n",
              "      border-color: transparent;\n",
              "      border-right-color: var(--fill-color);\n",
              "      border-bottom-color: var(--fill-color);\n",
              "    }\n",
              "    90% {\n",
              "      border-color: transparent;\n",
              "      border-bottom-color: var(--fill-color);\n",
              "    }\n",
              "  }\n",
              "</style>\n",
              "\n",
              "  <script>\n",
              "    async function quickchart(key) {\n",
              "      const quickchartButtonEl =\n",
              "        document.querySelector('#' + key + ' button');\n",
              "      quickchartButtonEl.disabled = true;  // To prevent multiple clicks.\n",
              "      quickchartButtonEl.classList.add('colab-df-spinner');\n",
              "      try {\n",
              "        const charts = await google.colab.kernel.invokeFunction(\n",
              "            'suggestCharts', [key], {});\n",
              "      } catch (error) {\n",
              "        console.error('Error during call to suggestCharts:', error);\n",
              "      }\n",
              "      quickchartButtonEl.classList.remove('colab-df-spinner');\n",
              "      quickchartButtonEl.classList.add('colab-df-quickchart-complete');\n",
              "    }\n",
              "    (() => {\n",
              "      let quickchartButtonEl =\n",
              "        document.querySelector('#df-fce6e28e-11da-4096-ad12-b8d8b5b2c5d1 button');\n",
              "      quickchartButtonEl.style.display =\n",
              "        google.colab.kernel.accessAllowed ? 'block' : 'none';\n",
              "    })();\n",
              "  </script>\n",
              "</div>\n",
              "\n",
              "  <div id=\"id_e82ad583-61ff-4c7d-a235-3b4f9ddc00de\">\n",
              "    <style>\n",
              "      .colab-df-generate {\n",
              "        background-color: #E8F0FE;\n",
              "        border: none;\n",
              "        border-radius: 50%;\n",
              "        cursor: pointer;\n",
              "        display: none;\n",
              "        fill: #1967D2;\n",
              "        height: 32px;\n",
              "        padding: 0 0 0 0;\n",
              "        width: 32px;\n",
              "      }\n",
              "\n",
              "      .colab-df-generate:hover {\n",
              "        background-color: #E2EBFA;\n",
              "        box-shadow: 0px 1px 2px rgba(60, 64, 67, 0.3), 0px 1px 3px 1px rgba(60, 64, 67, 0.15);\n",
              "        fill: #174EA6;\n",
              "      }\n",
              "\n",
              "      [theme=dark] .colab-df-generate {\n",
              "        background-color: #3B4455;\n",
              "        fill: #D2E3FC;\n",
              "      }\n",
              "\n",
              "      [theme=dark] .colab-df-generate:hover {\n",
              "        background-color: #434B5C;\n",
              "        box-shadow: 0px 1px 3px 1px rgba(0, 0, 0, 0.15);\n",
              "        filter: drop-shadow(0px 1px 2px rgba(0, 0, 0, 0.3));\n",
              "        fill: #FFFFFF;\n",
              "      }\n",
              "    </style>\n",
              "    <button class=\"colab-df-generate\" onclick=\"generateWithVariable('df')\"\n",
              "            title=\"Generate code using this dataframe.\"\n",
              "            style=\"display:none;\">\n",
              "\n",
              "  <svg xmlns=\"http://www.w3.org/2000/svg\" height=\"24px\"viewBox=\"0 0 24 24\"\n",
              "       width=\"24px\">\n",
              "    <path d=\"M7,19H8.4L18.45,9,17,7.55,7,17.6ZM5,21V16.75L18.45,3.32a2,2,0,0,1,2.83,0l1.4,1.43a1.91,1.91,0,0,1,.58,1.4,1.91,1.91,0,0,1-.58,1.4L9.25,21ZM18.45,9,17,7.55Zm-12,3A5.31,5.31,0,0,0,4.9,8.1,5.31,5.31,0,0,0,1,6.5,5.31,5.31,0,0,0,4.9,4.9,5.31,5.31,0,0,0,6.5,1,5.31,5.31,0,0,0,8.1,4.9,5.31,5.31,0,0,0,12,6.5,5.46,5.46,0,0,0,6.5,12Z\"/>\n",
              "  </svg>\n",
              "    </button>\n",
              "    <script>\n",
              "      (() => {\n",
              "      const buttonEl =\n",
              "        document.querySelector('#id_e82ad583-61ff-4c7d-a235-3b4f9ddc00de button.colab-df-generate');\n",
              "      buttonEl.style.display =\n",
              "        google.colab.kernel.accessAllowed ? 'block' : 'none';\n",
              "\n",
              "      buttonEl.onclick = () => {\n",
              "        google.colab.notebook.generateWithVariable('df');\n",
              "      }\n",
              "      })();\n",
              "    </script>\n",
              "  </div>\n",
              "\n",
              "    </div>\n",
              "  </div>\n"
            ],
            "application/vnd.google.colaboratory.intrinsic+json": {
              "type": "dataframe",
              "variable_name": "df",
              "summary": "{\n  \"name\": \"df\",\n  \"rows\": 25000,\n  \"fields\": [\n    {\n      \"column\": \"review\",\n      \"properties\": {\n        \"dtype\": \"string\",\n        \"num_unique_values\": 24902,\n        \"samples\": [\n          \"bromwell high is nothing short of brilliant . expertly scripted and perfectly delivered  this searing parody of a students and teachers at a south london public school leaves you literally rolling with laughter . it  s vulgar  provocative  witty and sharp . the characters are a superbly caricatured cross section of british society  or to be more accurate  of any society  . following the escapades of keisha  latrina and natella  our three  protagonists  for want of a better term  the show doesn  t shy away from parodying every imaginable subject . political correctness flies out the window in every episode . if you enjoy shows that aren  t afraid to poke fun of every taboo subject imaginable  then bromwell high will not disappoint   \",\n          \" . . . on stage  tv or in a book   the woman in black  is an outstanding ghost story . other reviewers have already said just about all there is to say about this film  but i thought i would add my belated little review too . the made  for  tv movie has a deliberately slow first act  which chronicles the main character arthur as he goes about his business as a solicitor in     s london . i can understand why this might not appeal to all palates . nevertheless  for me  i love this british  style of storytelling similar to any of the bbc  s  ghost story for christmas  adaptations of the great m . r . james  work . in the second act  the ghost story kicks in as arthur is sent to the provinces by his boss  to tidy up the affairs of a deceased client . the third act relentlessly builds up to a spine  tingling conclusion . . . as a londoner  i have seen the play . i own the book  dvd  r and have the unabridged audio book on my ipod  too . what is sure for me   the women in black  on any medium is a ghost story with few equals . it is about time that we had a legitimate region  dvd release .  \",\n          \"i have two good things to say about this film the scenery is beautiful and peter falk gives a good performance  considering what he had to work with in terms of dialog and direction  . however  that said  i found this film extremely tiresome . watching paint dry would have been more entertaining . it seemed much longer than   minutes . beginning with opening sequence  where everyone is talking over each other and paul reiser is repeating everything that  s said to him on the phone  the movie is annoying . the film is filled with clichs and shtick  not to mention endless incidents of audible flatulence by falk . also  the director seems to have had difficulty deciding whether to aim for laughs or tears . there are some sequences that are touching  but they  re all played for laughs . if schmaltzy  sentimental  and  cute  appeal to you  you  ll love it . but if you were hoping for something with more substance  see a different movie .  \"\n        ],\n        \"semantic_type\": \"\",\n        \"description\": \"\"\n      }\n    },\n    {\n      \"column\": \"label\",\n      \"properties\": {\n        \"dtype\": \"number\",\n        \"std\": 0,\n        \"min\": 0,\n        \"max\": 1,\n        \"num_unique_values\": 2,\n        \"samples\": [\n          0,\n          1\n        ],\n        \"semantic_type\": \"\",\n        \"description\": \"\"\n      }\n    }\n  ]\n}"
            }
          },
          "metadata": {},
          "execution_count": 2
        }
      ],
      "source": [
        "# reading the dataset\n",
        "df = pd.read_csv(\"SST_Dataset.csv\")\n",
        "df.dropna(inplace=True)\n",
        "df"
      ]
    },
    {
      "cell_type": "code",
      "execution_count": 8,
      "metadata": {
        "colab": {
          "base_uri": "https://localhost:8080/"
        },
        "id": "DO992Gns5mr7",
        "outputId": "26f9e79a-346d-4a69-8545-34118d41698d"
      },
      "outputs": [
        {
          "output_type": "stream",
          "name": "stdout",
          "text": [
            "Total no of words present in the dataset : 6347388\n",
            "Some sample words present are : ['bromwell', 'high', 'is', 'a', 'cartoon', 'comedy', '.', 'it', 'ran', 'at']\n",
            "\n",
            "Few Items of the Dictionary are : \n",
            "the : 1\n",
            ". : 2\n",
            "and : 3\n",
            "a : 4\n",
            "of : 5\n",
            "to : 6\n",
            "is : 7\n",
            "br : 8\n",
            "it : 9\n",
            "in : 10\n",
            "\n",
            "Dictionary Length : 74073\n"
          ]
        }
      ],
      "source": [
        "# finding vocabulary set in the entire data\n",
        "all_text = ' '.join([sent for sent in df['review']])\n",
        "words = all_text.split()\n",
        "print(f'Total no of words present in the dataset : {len(words)}')\n",
        "print(f'Some sample words present are : {words[0:10]}')\n",
        "\n",
        "## Build a dictionary that maps words to integers\n",
        "from collections import Counter\n",
        "counts = Counter(words)\n",
        "vocab = sorted(counts, key=counts.get, reverse=True)\n",
        "vocab_to_int = {word: ii for ii, word in enumerate(vocab,1)}\n",
        "\n",
        "print('')\n",
        "print('Few Items of the Dictionary are : ')\n",
        "for key, value in islice(vocab_to_int.items(), 10):\n",
        "       print(f\"{key} : {value}\")\n",
        "\n",
        "print('')\n",
        "print(f\"Dictionary Length : {len(vocab_to_int)}\")"
      ]
    },
    {
      "cell_type": "markdown",
      "metadata": {
        "id": "DHqvkP2nGx-g"
      },
      "source": [
        "cast : 56 means cast is a OHE vector where index 56 is 1 and rest all indexes have 0s & it is a 1*74073 dimension vector\n"
      ]
    },
    {
      "cell_type": "code",
      "execution_count": 9,
      "metadata": {
        "colab": {
          "base_uri": "https://localhost:8080/"
        },
        "id": "9PU_T2QJ6TX1",
        "outputId": "89dbf7dd-0bc6-45ce-a3b9-6c3ee4b4ac33"
      },
      "outputs": [
        {
          "output_type": "stream",
          "name": "stdout",
          "text": [
            "Full Dataset: (25000, 2)\n",
            "Train Dataset: (20000, 2)\n",
            "Test Dataset: (5000, 2)\n"
          ]
        }
      ],
      "source": [
        "# performing train test split\n",
        "train_dataset = df.sample(frac=0.8,random_state=200)\n",
        "test_dataset = df.drop(train_dataset.index).reset_index(drop=True)\n",
        "train_dataset = train_dataset.reset_index(drop=True)\n",
        "print(\"Full Dataset: {}\".format(df.shape))\n",
        "print(\"Train Dataset: {}\".format(train_dataset.shape))\n",
        "print(\"Test Dataset: {}\".format(test_dataset.shape))"
      ]
    },
    {
      "cell_type": "code",
      "execution_count": 10,
      "metadata": {
        "id": "RqBtTqwN3pUj"
      },
      "outputs": [],
      "source": [
        "class CustomDataset(Dataset):\n",
        "\n",
        "    def __init__(self, df, vocab_to_int):\n",
        "        self.df = df\n",
        "        self.vocab_to_int = vocab_to_int\n",
        "\n",
        "    def __len__(self):\n",
        "        return len(self.df)\n",
        "\n",
        "    def __getitem__(self, index):\n",
        "\n",
        "        # performing some preprocessing steps\n",
        "        comment_text = str(self.df['review'][index]) # extracting the sentence at a particular index\n",
        "        comment_text = comment_text.replace(\"</br>\", \" \") # replacing all <br/> tags with \" \"\n",
        "        comment_text = \"\".join([char for char in comment_text if char not in string.punctuation and not char.isdigit()]) #remove punctuation and numbers\n",
        "        comment_text = comment_text.lower() #lowering all the characters\n",
        "\n",
        "        # skipping this step but you can add here : removing stopwords and performing stemming\n",
        "\n",
        "        # converting text to numeric for [I love dogs] => [1, 76, 99]\n",
        "        comment_num = [self.vocab_to_int[word] for word in comment_text.split()]\n",
        "\n",
        "\n",
        "        '''\n",
        "        As an additional pre-processing step, we want to make sure that our reviews are in good shape for standard processing.\n",
        "        That is, our network will expect a standard input text size, and so, we'll want to shape our reviews into a specific length.\n",
        "        Here we will choose this specific lenght to be 200. We'll approach this task in two main steps:\n",
        "        '''\n",
        "        # if the comment is too large then truncating it to size = 200\n",
        "        if len(comment_num) > 200:\n",
        "            comment_num = np.array(comment_num)[:200]\n",
        "\n",
        "        # if the comment is too short then extending it to size = 200 via left padding (you can also do right padding instead)\n",
        "        # eg : ['best', 'movie', 'ever'] => [117, 18, 128] => [0,0,0,....0,0,117,18,128]\n",
        "        if len(comment_num) < 200:\n",
        "            padding = [0] * (200 - len(comment_num))\n",
        "            comment_num = np.array(padding + comment_num)\n",
        "\n",
        "        return {'review': torch.tensor(comment_num, dtype=torch.long), 'label': torch.tensor(self.df['label'][index], dtype=torch.float)}\n"
      ]
    },
    {
      "cell_type": "code",
      "execution_count": 11,
      "metadata": {
        "id": "Y5kT7oub6i0Z"
      },
      "outputs": [],
      "source": [
        "# training\n",
        "training_set = CustomDataset(train_dataset, vocab_to_int)\n",
        "training_loader = DataLoader(training_set, batch_size = 50, shuffle = True, num_workers = 0)\n",
        "\n",
        "# testing\n",
        "testing_set = CustomDataset(test_dataset, vocab_to_int)\n",
        "testing_loader = DataLoader(testing_set, batch_size = 50, shuffle = True, num_workers = 0)"
      ]
    },
    {
      "cell_type": "markdown",
      "metadata": {
        "id": "6ULOkAgAJTz8"
      },
      "source": [
        "# **Modelling**\n"
      ]
    },
    {
      "cell_type": "code",
      "execution_count": 21,
      "metadata": {
        "id": "cHyUI-NjNJNx"
      },
      "outputs": [],
      "source": [
        "# Code for above architecture\n",
        "class Sentiment_RNN(nn.Module):\n",
        "    def __init__(self, vocab_size, device):\n",
        "        super(Sentiment_RNN, self).__init__()\n",
        "        self.device = device\n",
        "        self.embedding = nn.Embedding(vocab_size, 400) # converts word tokens into OHE embeddings of size 400\n",
        "        self.rnn = nn.RNN(input_size = 400,  hidden_size = 256, num_layers = 1, batch_first=True)\n",
        "        self.fc = nn.Linear(256, 1)\n",
        "        self.sig = nn.Sigmoid()\n",
        "\n",
        "    def forward(self, x):\n",
        "\n",
        "        batch_size = x.size(0)\n",
        "        embeds = self.embedding(x) #ohe\n",
        "\n",
        "        hidden = torch.zeros(1, x.size(0), 256).to(self.device)\n",
        "        out, _ = self.rnn(embeds, hidden)\n",
        "        out = out.contiguous().view(-1, 256) # stack up last hidden layer of lstm outputs denoted by -1\n",
        "        out = self.sig(self.fc(out))\n",
        "        out = out.view(batch_size, -1) # reshape to be batch_size first\n",
        "        return out[:, -1] # get last batch of labels"
      ]
    },
    {
      "cell_type": "code",
      "execution_count": 18,
      "metadata": {
        "id": "1mv2SGxVsH3M"
      },
      "outputs": [],
      "source": []
    },
    {
      "cell_type": "markdown",
      "metadata": {
        "id": "TqUJfLXCJXhQ"
      },
      "source": [
        "# **Training**"
      ]
    },
    {
      "cell_type": "code",
      "execution_count": 22,
      "metadata": {
        "id": "Or4esWgnw0YV"
      },
      "outputs": [],
      "source": [
        "model = Sentiment_RNN(vocab_size = len(vocab_to_int) + 1, device = device).to(device) # +1 for zero padding + our word tokens\n",
        "optimizer = torch.optim.Adam(model.parameters(), lr=0.001)\n"
      ]
    },
    {
      "cell_type": "code",
      "execution_count": 23,
      "metadata": {
        "colab": {
          "base_uri": "https://localhost:8080/"
        },
        "id": "rJqrvKg0pmwu",
        "outputId": "88471d73-1fc1-421c-a34e-db9c2a23069d"
      },
      "outputs": [
        {
          "output_type": "stream",
          "name": "stdout",
          "text": [
            "Epoch: 1/20...Loss: 0.7311912178993225...\n",
            "Epoch: 1/20...Loss: 0.8274558782577515...\n",
            "Epoch: 1/20...Loss: 0.7003806829452515...\n",
            "Epoch: 1/20...Loss: 0.7026413083076477...\n",
            "Epoch: 2/20...Loss: 0.6703734993934631...\n",
            "Epoch: 2/20...Loss: 0.7358824014663696...\n",
            "Epoch: 2/20...Loss: 0.5704975724220276...\n",
            "Epoch: 2/20...Loss: 0.6489903330802917...\n",
            "Epoch: 3/20...Loss: 0.5804699063301086...\n",
            "Epoch: 3/20...Loss: 0.5636714100837708...\n",
            "Epoch: 3/20...Loss: 0.6487445831298828...\n",
            "Epoch: 3/20...Loss: 0.6269955039024353...\n",
            "Epoch: 4/20...Loss: 0.5314719080924988...\n",
            "Epoch: 4/20...Loss: 0.5224661827087402...\n",
            "Epoch: 4/20...Loss: 0.5748705267906189...\n",
            "Epoch: 4/20...Loss: 0.5312837958335876...\n",
            "Epoch: 5/20...Loss: 0.5035082697868347...\n",
            "Epoch: 5/20...Loss: 0.40971213579177856...\n",
            "Epoch: 5/20...Loss: 0.5210629105567932...\n",
            "Epoch: 5/20...Loss: 0.5348144173622131...\n",
            "Epoch: 6/20...Loss: 0.5625311732292175...\n",
            "Epoch: 6/20...Loss: 0.4933357834815979...\n",
            "Epoch: 6/20...Loss: 0.35072243213653564...\n",
            "Epoch: 6/20...Loss: 0.46305862069129944...\n",
            "Epoch: 7/20...Loss: 0.5681752562522888...\n",
            "Epoch: 7/20...Loss: 0.5160820484161377...\n",
            "Epoch: 7/20...Loss: 0.40644630789756775...\n",
            "Epoch: 7/20...Loss: 0.49208778142929077...\n",
            "Epoch: 8/20...Loss: 0.31750696897506714...\n",
            "Epoch: 8/20...Loss: 0.5440037846565247...\n",
            "Epoch: 8/20...Loss: 0.5087602138519287...\n",
            "Epoch: 8/20...Loss: 0.5128282308578491...\n",
            "Epoch: 9/20...Loss: 0.3028247356414795...\n",
            "Epoch: 9/20...Loss: 0.3551860451698303...\n",
            "Epoch: 9/20...Loss: 0.4304356276988983...\n",
            "Epoch: 9/20...Loss: 0.344281941652298...\n",
            "Epoch: 10/20...Loss: 0.36302247643470764...\n",
            "Epoch: 10/20...Loss: 0.28660205006599426...\n",
            "Epoch: 10/20...Loss: 0.24321696162223816...\n",
            "Epoch: 10/20...Loss: 0.28150373697280884...\n",
            "Epoch: 11/20...Loss: 0.21491748094558716...\n",
            "Epoch: 11/20...Loss: 0.2312503606081009...\n",
            "Epoch: 11/20...Loss: 0.3380066752433777...\n",
            "Epoch: 11/20...Loss: 0.31371307373046875...\n",
            "Epoch: 12/20...Loss: 0.33610105514526367...\n",
            "Epoch: 12/20...Loss: 0.38586464524269104...\n",
            "Epoch: 12/20...Loss: 0.22702547907829285...\n",
            "Epoch: 12/20...Loss: 0.5065649747848511...\n",
            "Epoch: 13/20...Loss: 0.3498918414115906...\n",
            "Epoch: 13/20...Loss: 0.36009886860847473...\n",
            "Epoch: 13/20...Loss: 0.24523606896400452...\n",
            "Epoch: 13/20...Loss: 0.34724822640419006...\n",
            "Epoch: 14/20...Loss: 0.3751198351383209...\n",
            "Epoch: 14/20...Loss: 0.426742285490036...\n",
            "Epoch: 14/20...Loss: 0.28617435693740845...\n",
            "Epoch: 14/20...Loss: 0.16768383979797363...\n",
            "Epoch: 15/20...Loss: 0.24422354996204376...\n",
            "Epoch: 15/20...Loss: 0.19635921716690063...\n",
            "Epoch: 15/20...Loss: 0.314544141292572...\n",
            "Epoch: 15/20...Loss: 0.2977229654788971...\n",
            "Epoch: 16/20...Loss: 0.1709592193365097...\n",
            "Epoch: 16/20...Loss: 0.2872624695301056...\n",
            "Epoch: 16/20...Loss: 0.1698063611984253...\n",
            "Epoch: 16/20...Loss: 0.23843656480312347...\n",
            "Epoch: 17/20...Loss: 0.3757231533527374...\n",
            "Epoch: 17/20...Loss: 0.2593138813972473...\n",
            "Epoch: 17/20...Loss: 0.20813731849193573...\n",
            "Epoch: 17/20...Loss: 0.2625417411327362...\n",
            "Epoch: 18/20...Loss: 0.15148748457431793...\n",
            "Epoch: 18/20...Loss: 0.18168026208877563...\n",
            "Epoch: 18/20...Loss: 0.22343876957893372...\n",
            "Epoch: 18/20...Loss: 0.12568004429340363...\n",
            "Epoch: 19/20...Loss: 0.1677575260400772...\n",
            "Epoch: 19/20...Loss: 0.15312303602695465...\n",
            "Epoch: 19/20...Loss: 0.2272581309080124...\n",
            "Epoch: 19/20...Loss: 0.29212477803230286...\n",
            "Epoch: 20/20...Loss: 0.19175808131694794...\n",
            "Epoch: 20/20...Loss: 0.22034700214862823...\n",
            "Epoch: 20/20...Loss: 0.2865619957447052...\n",
            "Epoch: 20/20...Loss: 0.35105806589126587...\n"
          ]
        }
      ],
      "source": [
        "model.train()\n",
        "for e in range(20):\n",
        "\n",
        "  for _,data in enumerate(training_loader,0):\n",
        "\n",
        "    # zero accumulated gradients\n",
        "    model.zero_grad()\n",
        "\n",
        "    # predictions\n",
        "    output = model(data['review'].to(device, dtype = torch.long))\n",
        "\n",
        "    # actuals\n",
        "    target = data['label'].to(device, dtype = torch.long)\n",
        "\n",
        "    # calculate the loss and perform backprop\n",
        "    loss = nn.BCELoss()(output.squeeze(), target.float())\n",
        "    loss.backward()\n",
        "\n",
        "    # `clip_grad_norm` helps prevent the exploding gradient problem in RNNs / LSTMs.\n",
        "    nn.utils.clip_grad_norm_(model.parameters(), 5) # gradient clipping - The maximum gradient value to clip at (to prevent exploding gradients).\n",
        "    optimizer.step()\n",
        "\n",
        "    # loss stats\n",
        "    if _ % 100 == 0:\n",
        "      print(f\"Epoch: {e+1}/20...Loss: {loss.item()}...\")"
      ]
    },
    {
      "cell_type": "markdown",
      "metadata": {
        "id": "4ZEn0LHZpmwx"
      },
      "source": [
        "# **Inference**\n",
        "\n"
      ]
    },
    {
      "cell_type": "code",
      "execution_count": 24,
      "metadata": {
        "colab": {
          "base_uri": "https://localhost:8080/"
        },
        "id": "_a3LcJF9H4lT",
        "outputId": "12a1deb4-a8f3-4bb8-ee3c-2a2c40f9de70"
      },
      "outputs": [
        {
          "output_type": "stream",
          "name": "stdout",
          "text": [
            "\n",
            "Few Items of the Reverse Dictionary are : \n",
            "1 : the\n",
            "2 : .\n",
            "3 : and\n",
            "4 : a\n",
            "5 : of\n",
            "6 : to\n",
            "7 : is\n",
            "8 : br\n",
            "9 : it\n",
            "10 : in\n",
            "\n",
            "Reverse Dictionary Length : 74074\n"
          ]
        }
      ],
      "source": [
        "int_to_vocab = {value: key for key, value in vocab_to_int.items()}\n",
        "int_to_vocab[0] = '<PAD>'\n",
        "\n",
        "print('')\n",
        "print('Few Items of the Reverse Dictionary are : ')\n",
        "for key, value in islice(int_to_vocab.items(), 10):\n",
        "       print(f\"{key} : {value}\")\n",
        "\n",
        "print('')\n",
        "print(f\"Reverse Dictionary Length : {len(int_to_vocab)}\")"
      ]
    },
    {
      "cell_type": "code",
      "execution_count": 26,
      "metadata": {
        "colab": {
          "base_uri": "https://localhost:8080/"
        },
        "id": "xd_GWDE0pmwz",
        "outputId": "e0b772a3-e947-468b-9adf-469977461dbf"
      },
      "outputs": [
        {
          "output_type": "stream",
          "name": "stdout",
          "text": [
            "Input Sentence : considering a star is born had been made twice already by the time the film came into production the latest remake has a freshness about it that can be attributed to the fantastic chemistry between the entire acting ensemble a viewer could be forgiven for believing that kris kristofferson barbara streisand were a couple off screen as well as on with their incredible displays of pure affection towards one another br br the film has been described in the past as a barbara streisand concert on film set to a soap opera storyline however for anyone that enjoys watching a film that takes you beyond the living room into a world where the characters seem truly alive a star is born is well worth the hiring price br br with its incredible soundtrack flawless acting and touching reality in regards to human emotions and the true frailty of life a star is born is a film that draws you into the world of esther hoffman the love of her life john norman howard br br a film for anyone that sees the beauty in real love the kind that keeps you devoted to a person even as they break your\n",
            "Predicted : 1.0\n",
            "Actual : 1\n"
          ]
        }
      ],
      "source": [
        "test_losses = []\n",
        "num_correct = 0\n",
        "\n",
        "model.eval()\n",
        "for data in testing_loader:\n",
        "\n",
        "    # predictions\n",
        "    output = model(data['review'].to(device, dtype = torch.long))\n",
        "    pred = torch.round(output.squeeze())  # convert output probabilities to predicted class (0 or 1)\n",
        "\n",
        "    # actuals\n",
        "    target = data['label'].to(device, dtype = torch.long)\n",
        "\n",
        "    if num_correct == 0:\n",
        "      review_ip = np.squeeze(data['review'][0].cpu().numpy())\n",
        "      print(f\"Input Sentence : { ' '.join([ int_to_vocab[i] for i in review_ip ]) }\")\n",
        "      print(f\"Predicted : {pred[0]}\")\n",
        "      print(f\"Actual : {target[0]}\")\n",
        "\n",
        "    # calculate loss\n",
        "    test_loss = nn.BCELoss()(output.squeeze(), target.float())\n",
        "    test_losses.append(test_loss.item())\n",
        "\n",
        "    # compare predictions to true label\n",
        "    correct_tensor = pred.eq(target.view_as(pred))\n",
        "    correct = np.squeeze(correct_tensor.cpu().numpy())\n",
        "    num_correct += np.sum(correct)"
      ]
    },
    {
      "cell_type": "code",
      "execution_count": 27,
      "metadata": {
        "colab": {
          "base_uri": "https://localhost:8080/"
        },
        "id": "rTZAFNUAG6_b",
        "outputId": "d9be4b87-2575-40ef-bfe9-7e5d1ae98f31"
      },
      "outputs": [
        {
          "output_type": "stream",
          "name": "stdout",
          "text": [
            "Test loss: 0.758\n"
          ]
        }
      ],
      "source": [
        "print(\"Test loss: {:.3f}\".format(np.mean(test_losses)))"
      ]
    },
    {
      "cell_type": "code",
      "execution_count": 28,
      "metadata": {
        "colab": {
          "base_uri": "https://localhost:8080/"
        },
        "id": "YMn2gCwqG9Pb",
        "outputId": "bf7bae31-8037-41d8-a792-42b50db97caf"
      },
      "outputs": [
        {
          "output_type": "stream",
          "name": "stdout",
          "text": [
            "Test accuracy: 0.703\n"
          ]
        }
      ],
      "source": [
        "test_acc = num_correct/len(testing_loader.dataset)\n",
        "print(\"Test accuracy: {:.3f}\".format(test_acc))"
      ]
    }
  ],
  "metadata": {
    "accelerator": "GPU",
    "colab": {
      "collapsed_sections": [
        "Z340tgd-tVMI",
        "MyKjPufwtSH0",
        "ZhtxRVMRtjuT",
        "qhea_nKuvbBV",
        "B10ZKhh03nXu",
        "tad_SruO7FsZ",
        "kS6nx_687Kyz",
        "1SkLEd_rurQl",
        "UNj6CdHxtrTA",
        "RIVSWIxypmwS",
        "qCBVUXOmHGHZ",
        "F69y1tuAHK2b",
        "xBzNbDFSHgLm",
        "B1UEfwcaEUPs",
        "nQMdUUkts9x6",
        "6ULOkAgAJTz8",
        "TqUJfLXCJXhQ",
        "4ZEn0LHZpmwx",
        "irgW-x9Zpmw1",
        "nzumecHbYoT7"
      ],
      "name": "7. Sentimental Analysis (Movie Review Classification) using Joint Training.ipynb",
      "provenance": []
    },
    "kernelspec": {
      "display_name": "Python 3",
      "name": "python3"
    },
    "language_info": {
      "name": "python"
    }
  },
  "nbformat": 4,
  "nbformat_minor": 0
}