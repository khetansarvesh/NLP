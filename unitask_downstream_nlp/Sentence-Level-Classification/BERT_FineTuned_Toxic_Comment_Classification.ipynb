{
  "cells": [
    {
      "cell_type": "markdown",
      "metadata": {
        "id": "sZhTzJbBOiDd"
      },
      "source": [
        "[![Open In Colab](https://colab.research.google.com/assets/colab-badge.svg)](https://colab.research.google.com/github/khetansarvesh/NLP/blob/main/unitask_downstream_nlp/Sentence-Level-Classification/BERT_FineTuned_Toxic_Comment_Classification.ipynb)\n",
        "\n",
        "\n"
      ]
    },
    {
      "cell_type": "code",
      "execution_count": null,
      "metadata": {
        "colab": {
          "base_uri": "https://localhost:8080/"
        },
        "id": "WD_vnyLXZQzD",
        "outputId": "f41b5d0d-a3ba-4fe0-9de8-bc7c3267d08e"
      },
      "outputs": [
        {
          "name": "stdout",
          "output_type": "stream",
          "text": [
            "\u001b[K     |████████████████████████████████| 2.5MB 8.1MB/s \n",
            "\u001b[K     |████████████████████████████████| 901kB 49.0MB/s \n",
            "\u001b[K     |████████████████████████████████| 3.3MB 46.6MB/s \n",
            "\u001b[?25h"
          ]
        }
      ],
      "source": [
        "# Installing the transformers library\n",
        "!pip install -q transformers"
      ]
    },
    {
      "cell_type": "code",
      "execution_count": null,
      "metadata": {
        "id": "pzM1_ykHaFur"
      },
      "outputs": [],
      "source": [
        "# Importing libraries\n",
        "import numpy as np\n",
        "import pandas as pd\n",
        "import torch\n",
        "from torch.utils.data import Dataset, DataLoader, RandomSampler, SequentialSampler\n",
        "import transformers\n",
        "\n",
        "# import tokenizer for the model\n",
        "from transformers import BertTokenizer\n",
        "\n",
        "# import the model from huggingface\n",
        "from transformers import BertModel\n",
        "\n",
        "# # Setting up the device for GPU usage\n",
        "from torch import cuda\n",
        "device = 'cuda' if cuda.is_available() else 'cpu'"
      ]
    },
    {
      "cell_type": "markdown",
      "metadata": {
        "id": "EjofRCuDGVeG"
      },
      "source": [
        "# **Dataset**\n",
        "We are using the [Jigsaw Toxic Comment Dataset](https://www.kaggle.com/c/jigsaw-toxic-comment-classification-challenge). Refer only to the first csv file from the data dump: `train.csv`"
      ]
    },
    {
      "cell_type": "markdown",
      "source": [
        "### Reading Dataset"
      ],
      "metadata": {
        "id": "uGN6kJBKT_fS"
      }
    },
    {
      "cell_type": "code",
      "execution_count": null,
      "metadata": {
        "colab": {
          "base_uri": "https://localhost:8080/",
          "height": 195
        },
        "id": "mZ7lTlkyaG7u",
        "outputId": "ad5af998-9cf9-4f23-9a0e-23c2e3c0e3a1"
      },
      "outputs": [
        {
          "data": {
            "text/html": [
              "<div>\n",
              "<style scoped>\n",
              "    .dataframe tbody tr th:only-of-type {\n",
              "        vertical-align: middle;\n",
              "    }\n",
              "\n",
              "    .dataframe tbody tr th {\n",
              "        vertical-align: top;\n",
              "    }\n",
              "\n",
              "    .dataframe thead th {\n",
              "        text-align: right;\n",
              "    }\n",
              "</style>\n",
              "<table border=\"1\" class=\"dataframe\">\n",
              "  <thead>\n",
              "    <tr style=\"text-align: right;\">\n",
              "      <th></th>\n",
              "      <th>comment_text</th>\n",
              "      <th>list</th>\n",
              "    </tr>\n",
              "  </thead>\n",
              "  <tbody>\n",
              "    <tr>\n",
              "      <th>0</th>\n",
              "      <td>Explanation\\nWhy the edits made under my usern...</td>\n",
              "      <td>[0, 0, 0, 0, 0, 0]</td>\n",
              "    </tr>\n",
              "    <tr>\n",
              "      <th>1</th>\n",
              "      <td>D'aww! He matches this background colour I'm s...</td>\n",
              "      <td>[0, 0, 0, 0, 0, 0]</td>\n",
              "    </tr>\n",
              "    <tr>\n",
              "      <th>2</th>\n",
              "      <td>Hey man, I'm really not trying to edit war. It...</td>\n",
              "      <td>[0, 0, 0, 0, 0, 0]</td>\n",
              "    </tr>\n",
              "    <tr>\n",
              "      <th>3</th>\n",
              "      <td>\"\\nMore\\nI can't make any real suggestions on ...</td>\n",
              "      <td>[0, 0, 0, 0, 0, 0]</td>\n",
              "    </tr>\n",
              "    <tr>\n",
              "      <th>4</th>\n",
              "      <td>You, sir, are my hero. Any chance you remember...</td>\n",
              "      <td>[0, 0, 0, 0, 0, 0]</td>\n",
              "    </tr>\n",
              "  </tbody>\n",
              "</table>\n",
              "</div>"
            ],
            "text/plain": [
              "                                        comment_text                list\n",
              "0  Explanation\\nWhy the edits made under my usern...  [0, 0, 0, 0, 0, 0]\n",
              "1  D'aww! He matches this background colour I'm s...  [0, 0, 0, 0, 0, 0]\n",
              "2  Hey man, I'm really not trying to edit war. It...  [0, 0, 0, 0, 0, 0]\n",
              "3  \"\\nMore\\nI can't make any real suggestions on ...  [0, 0, 0, 0, 0, 0]\n",
              "4  You, sir, are my hero. Any chance you remember...  [0, 0, 0, 0, 0, 0]"
            ]
          },
          "execution_count": 4,
          "metadata": {
            "tags": []
          },
          "output_type": "execute_result"
        }
      ],
      "source": [
        "df = pd.read_csv(\"./data/train.csv\")\n",
        "\n",
        "# Taking the values of all the categories and coverting it into a list.\n",
        "df['list'] = df[df.columns[2:]].values.tolist()\n",
        "\n",
        "#The list is appened as a new column and other columns are removed\n",
        "new_df = df[['comment_text', 'list']].copy()\n",
        "\n",
        "new_df.head()"
      ]
    },
    {
      "cell_type": "markdown",
      "source": [
        "### Train Test Split"
      ],
      "metadata": {
        "id": "Ygf0ocj6UBfU"
      }
    },
    {
      "cell_type": "code",
      "source": [
        "train_dataset = new_df.sample(frac=0.8,random_state=200)\n",
        "test_dataset = new_df.drop(train_dataset.index).reset_index(drop=True)\n",
        "train_dataset = train_dataset.reset_index(drop=True)\n",
        "print(\"FULL Dataset: {}\".format(new_df.shape))\n",
        "print(\"TRAIN Dataset: {}\".format(train_dataset.shape))\n",
        "print(\"TEST Dataset: {}\".format(test_dataset.shape))"
      ],
      "metadata": {
        "id": "ZdgIXgZuQqKm"
      },
      "execution_count": null,
      "outputs": []
    },
    {
      "cell_type": "markdown",
      "metadata": {
        "id": "YEn1Mq_ljGWZ"
      },
      "source": [
        "### Text2Numeric Conversion"
      ]
    },
    {
      "cell_type": "code",
      "execution_count": null,
      "metadata": {
        "colab": {
          "base_uri": "https://localhost:8080/"
        },
        "id": "WKYfjFNeernI",
        "outputId": "f58ed34d-46c3-4b35-f6c7-30b2e1714310"
      },
      "outputs": [
        {
          "data": {
            "text/plain": [
              "{'input_ids': [101, 8667, 117, 146, 112, 182, 170, 1423, 5650, 106, 102], 'token_type_ids': [0, 0, 0, 0, 0, 0, 0, 0, 0, 0, 0], 'attention_mask': [1, 1, 1, 1, 1, 1, 1, 1, 1, 1, 1]}"
            ]
          },
          "execution_count": 4,
          "metadata": {
            "tags": []
          },
          "output_type": "execute_result"
        }
      ],
      "source": [
        "tokenizer = BertTokenizer.from_pretrained('bert-base-uncased') # - To read further into the tokenizer, [refer to this document](https://huggingface.co/transformers/model_doc/bert.html#berttokenizer)\n",
        "encoded_input = tokenizer(\"Hello, I'm candlelight\")\n",
        "\n",
        "# to get the text to numeric representation\n",
        "print(encoded_input)\n",
        "\n",
        "#to get what are the subwords it broke the original sentence into use following\n",
        "tokenizer.convert_ids_to_tokens(encoded_input['input_ids'])"
      ]
    },
    {
      "cell_type": "code",
      "execution_count": null,
      "metadata": {
        "id": "oFOylAXqiNYK"
      },
      "outputs": [],
      "source": [
        "class CustomDataset(Dataset):\n",
        "\n",
        "    def __init__(self, df, tokenizer):\n",
        "        self.tokenizer = tokenizer\n",
        "        self.df = df\n",
        "\n",
        "    def __len__(self):\n",
        "        return len(self.comment_text)\n",
        "\n",
        "    def __getitem__(self, index):\n",
        "\n",
        "        comment_text = str(self.df['comment_text'][index]) # extracting the sentence at a particular index\n",
        "        comment_text = \" \".join(comment_text.split()) # splitting the extracted sentence using ' '\n",
        "\n",
        "        # performing text => numeric conversion using tokenizer\n",
        "        inputs = self.tokenizer.encode_plus(\n",
        "                                              comment_text,\n",
        "                                              None,\n",
        "                                              add_special_tokens=True,\n",
        "                                              max_length = 200,\n",
        "                                              pad_to_max_length=True,\n",
        "                                              return_token_type_ids=True\n",
        "                                          )\n",
        "\n",
        "        return {\n",
        "                    'ids': torch.tensor(inputs['input_ids'], dtype=torch.long),                 # subwords\n",
        "                    'mask': torch.tensor(inputs['attention_mask'], dtype=torch.long),           # masks\n",
        "                    'token_type_ids': torch.tensor(inputs[\"token_type_ids\"], dtype=torch.long), # numeric representation\n",
        "                    'targets': torch.tensor(self.df['list'][index], dtype=torch.float)          # target\n",
        "                }"
      ]
    },
    {
      "cell_type": "code",
      "execution_count": null,
      "metadata": {
        "id": "vLpilV73QrXJ"
      },
      "outputs": [],
      "source": [
        "# training\n",
        "training_set = CustomDataset(train_dataset, tokenizer)\n",
        "training_loader = DataLoader(training_set, batch_size = 8, shuffle = True, num_workers = 0)\n",
        "\n",
        "# testing\n",
        "testing_set = CustomDataset(test_dataset, tokenizer)\n",
        "testing_loader = DataLoader(testing_set, batch_size = 4, shuffle = True, num_workers = 0)"
      ]
    },
    {
      "cell_type": "markdown",
      "metadata": {
        "id": "SV83ENr5ixBu"
      },
      "source": [
        "# **Modelling**\n"
      ]
    },
    {
      "cell_type": "code",
      "source": [
        "# Creating the customized model, by adding a drop out and a dense layer on top of distil bert to get the final output for the model.\n",
        "class BERTClass(torch.nn.Module):\n",
        "    def __init__(self):\n",
        "        super(BERTClass, self).__init__()\n",
        "        self.l1 = transformers.BertModel.from_pretrained('bert-base-uncased')\n",
        "        self.l2 = torch.nn.Dropout(0.3) # for regularization\n",
        "        self.l3 = torch.nn.Linear(768, 6) # cause 6 class classification and bert output a 768 size vector\n",
        "\n",
        "    def forward(self, ids, mask, token_type_ids):\n",
        "        _, output_1= self.l1(ids, attention_mask = mask, token_type_ids = token_type_ids) #note: there are two outputs from the bert model #output 1 is also called the pooled output\n",
        "        output_2 = self.l2(output_1)\n",
        "        output = self.l3(output_2)\n",
        "        return output"
      ],
      "metadata": {
        "id": "h-1z_2s5OHzG"
      },
      "execution_count": null,
      "outputs": []
    },
    {
      "cell_type": "code",
      "source": [
        "model = BERTClass()\n",
        "model.to(device)"
      ],
      "metadata": {
        "id": "qfqS0ZKcPRLu"
      },
      "execution_count": null,
      "outputs": []
    },
    {
      "cell_type": "markdown",
      "source": [
        "# **Training**"
      ],
      "metadata": {
        "id": "b2hwzHbCOWKH"
      }
    },
    {
      "cell_type": "code",
      "execution_count": null,
      "metadata": {
        "id": "7KnNeQx6SI78"
      },
      "outputs": [],
      "source": [
        "model.train()\n",
        "optimizer = torch.optim.Adam(params =  model.parameters(), lr=1e-05)"
      ]
    },
    {
      "cell_type": "code",
      "execution_count": null,
      "metadata": {
        "colab": {
          "base_uri": "https://localhost:8080/",
          "height": 87
        },
        "id": "D4Yl7gXHYSRU",
        "outputId": "94be5496-6ab5-4744-b8db-c6370fbd9f88"
      },
      "outputs": [
        {
          "name": "stdout",
          "output_type": "stream",
          "text": [
            "Epoch: 0, Loss:  0.8253790140151978\n",
            "Epoch: 0, Loss:  0.1364113688468933\n",
            "Epoch: 0, Loss:  0.06799022853374481\n",
            "Epoch: 0, Loss:  0.022630181163549423\n"
          ]
        }
      ],
      "source": [
        "for epoch in range(4):\n",
        "\n",
        "    for _,data in enumerate(training_loader, 0): #dataloader passes data to the model based on the batch size\n",
        "\n",
        "        # inputs\n",
        "        ids = data['ids'].to(device, dtype = torch.long)\n",
        "        mask = data['mask'].to(device, dtype = torch.long)\n",
        "        token_type_ids = data['token_type_ids'].to(device, dtype = torch.long)\n",
        "\n",
        "        # predictions\n",
        "        outputs = model(ids, mask, token_type_ids)\n",
        "\n",
        "        # actuals\n",
        "        targets = data['targets'].to(device, dtype = torch.float)\n",
        "\n",
        "\n",
        "        optimizer.zero_grad()\n",
        "        loss = torch.nn.BCEWithLogitsLoss()(outputs, targets)\n",
        "\n",
        "        # printing loss after every 5000 steps\n",
        "        if _%5000==0:\n",
        "            print(f'Epoch: {epoch}, Loss:  {loss.item()}')\n",
        "\n",
        "        optimizer.zero_grad()\n",
        "        loss.backward()\n",
        "        optimizer.step()"
      ]
    },
    {
      "cell_type": "markdown",
      "metadata": {
        "id": "6O0ucVYiGVeP"
      },
      "source": [
        "# **Inference**\n",
        "\n"
      ]
    },
    {
      "cell_type": "code",
      "execution_count": null,
      "metadata": {
        "id": "u1gm7gp3iazX"
      },
      "outputs": [],
      "source": [
        "from sklearn import metrics"
      ]
    },
    {
      "cell_type": "code",
      "execution_count": null,
      "metadata": {
        "id": "nIEoUm4aQkyl"
      },
      "outputs": [],
      "source": [
        "def validation(epoch):\n",
        "    model.eval()\n",
        "    fin_targets=[]\n",
        "    fin_outputs=[]\n",
        "    with torch.no_grad():\n",
        "        for _, data in enumerate(testing_loader, 0):\n",
        "            ids = data['ids'].to(device, dtype = torch.long)\n",
        "            mask = data['mask'].to(device, dtype = torch.long)\n",
        "            token_type_ids = data['token_type_ids'].to(device, dtype = torch.long)\n",
        "            targets = data['targets'].to(device, dtype = torch.float)\n",
        "            outputs = model(ids, mask, token_type_ids)\n",
        "            fin_targets.extend(targets.cpu().detach().numpy().tolist())\n",
        "            fin_outputs.extend(torch.sigmoid(outputs).cpu().detach().numpy().tolist())\n",
        "    return fin_outputs, fin_targets"
      ]
    },
    {
      "cell_type": "code",
      "execution_count": null,
      "metadata": {
        "colab": {
          "base_uri": "https://localhost:8080/",
          "height": 70
        },
        "id": "Ov1_3R_pAcMo",
        "outputId": "96d0de09-1943-44b0-9f48-692f045e2863"
      },
      "outputs": [
        {
          "name": "stdout",
          "output_type": "stream",
          "text": [
            "Accuracy Score = 0.9354828601867519\n",
            "F1 Score (Micro) = 0.8104458787743897\n",
            "F1 Score (Macro) = 0.6943681099377335\n"
          ]
        }
      ],
      "source": [
        "for epoch in range(4):\n",
        "    outputs, targets = validation(epoch)\n",
        "    outputs = np.array(outputs) >= 0.5\n",
        "    accuracy = metrics.accuracy_score(targets, outputs)\n",
        "    f1_score_micro = metrics.f1_score(targets, outputs, average='micro')\n",
        "    f1_score_macro = metrics.f1_score(targets, outputs, average='macro')\n",
        "    print(f\"Accuracy Score = {accuracy}\")\n",
        "    print(f\"F1 Score (Micro) = {f1_score_micro}\")\n",
        "    print(f\"F1 Score (Macro) = {f1_score_macro}\")"
      ]
    }
  ],
  "metadata": {
    "accelerator": "GPU",
    "colab": {
      "collapsed_sections": [
        "EjofRCuDGVeG",
        "YEn1Mq_ljGWZ",
        "GqUwVPuooEdl",
        "OSxrGkNNoG8s",
        "SV83ENr5ixBu",
        "N_9EthjsYwh0",
        "MIPMOI-2GVeN",
        "6O0ucVYiGVeP"
      ],
      "provenance": []
    },
    "kernelspec": {
      "display_name": "Python 3.7.6 64-bit ('fastai': conda)",
      "language": "python",
      "name": "python37664bitfastaiconda149f4ca18fae45818735beadf08062d0"
    },
    "language_info": {
      "codemirror_mode": {
        "name": "ipython",
        "version": 3
      },
      "file_extension": ".py",
      "mimetype": "text/x-python",
      "name": "python",
      "nbconvert_exporter": "python",
      "pygments_lexer": "ipython3",
      "version": "3.7.7"
    }
  },
  "nbformat": 4,
  "nbformat_minor": 0
}